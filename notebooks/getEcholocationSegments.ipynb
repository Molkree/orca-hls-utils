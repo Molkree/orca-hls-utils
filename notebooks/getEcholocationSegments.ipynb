{
  "cells": [
    {
      "cell_type": "markdown",
      "source": [
        "[![Open In Colab](https://colab.research.google.com/assets/colab-badge.svg)](https://colab.research.google.com/drive/1yHECdcu9zydeXmVU5r7smMPWIOE6kXAE)"
      ],
      "metadata": {
        "id": "TTQhrjK4RbY2"
      }
    },
    {
      "cell_type": "markdown",
      "metadata": {
        "id": "VZ6eRM4tq9V4"
      },
      "source": [
        "# Echolocation Segment Extraction \n",
        "\n",
        "\n",
        "\n"
      ]
    },
    {
      "cell_type": "code",
      "execution_count": null,
      "metadata": {
        "id": "iVHJTUxcVtkS"
      },
      "outputs": [],
      "source": [
        "import pandas as pd"
      ]
    },
    {
      "cell_type": "code",
      "execution_count": null,
      "metadata": {
        "id": "DC8VJu7s0RUw"
      },
      "outputs": [],
      "source": [
        "# datetime packages\n",
        "from datetime import timezone\n",
        "from datetime import datetime, timedelta"
      ]
    },
    {
      "cell_type": "code",
      "execution_count": null,
      "metadata": {
        "id": "3V2kN1zafED1"
      },
      "outputs": [],
      "source": [
        "# orca_hls_utils is a small package to facilitate the file extraction\n",
        "# !pip install orca_hls_utils"
      ]
    },
    {
      "cell_type": "code",
      "execution_count": null,
      "metadata": {
        "colab": {
          "base_uri": "https://localhost:8080/"
        },
        "id": "tf12xmcg_3wj",
        "outputId": "8a3f50f1-6062-414c-e99d-aa56a09b4dc8"
      },
      "outputs": [
        {
          "output_type": "stream",
          "name": "stdout",
          "text": [
            "Looking in indexes: https://pypi.org/simple, https://us-python.pkg.dev/colab-wheels/public/simple/\n",
            "Collecting git+git://github.com/orcasound/orca-hls-utils\n",
            "  Cloning git://github.com/orcasound/orca-hls-utils to /tmp/pip-req-build-dvq4q_yv\n",
            "  Running command git clone -q git://github.com/orcasound/orca-hls-utils /tmp/pip-req-build-dvq4q_yv\n",
            "  fatal: unable to connect to github.com:\n",
            "  github.com[0: 140.82.114.4]: errno=Connection timed out\n",
            "\n",
            "\u001b[33mWARNING: Discarding git+git://github.com/orcasound/orca-hls-utils. Command errored out with exit status 128: git clone -q git://github.com/orcasound/orca-hls-utils /tmp/pip-req-build-dvq4q_yv Check the logs for full command output.\u001b[0m\n",
            "\u001b[31mERROR: Command errored out with exit status 128: git clone -q git://github.com/orcasound/orca-hls-utils /tmp/pip-req-build-dvq4q_yv Check the logs for full command output.\u001b[0m\n"
          ]
        }
      ],
      "source": [
        "# this is a version which has an extra option to overwrite existing files which is handy while testing\n",
        "!pip install git+git://github.com/orcasound/orca-hls-utils"
      ]
    },
    {
      "cell_type": "code",
      "execution_count": null,
      "metadata": {
        "id": "L4PNF0YnfRWr",
        "colab": {
          "base_uri": "https://localhost:8080/",
          "height": 305
        },
        "outputId": "5a728c64-92f9-4246-a6fd-3ee36de63419"
      },
      "outputs": [
        {
          "output_type": "error",
          "ename": "ModuleNotFoundError",
          "evalue": "ignored",
          "traceback": [
            "\u001b[0;31m---------------------------------------------------------------------------\u001b[0m",
            "\u001b[0;31mModuleNotFoundError\u001b[0m                       Traceback (most recent call last)",
            "\u001b[0;32m<ipython-input-2-f4239519511f>\u001b[0m in \u001b[0;36m<module>\u001b[0;34m\u001b[0m\n\u001b[0;32m----> 1\u001b[0;31m \u001b[0;32mimport\u001b[0m \u001b[0morca_hls_utils\u001b[0m \u001b[0;32mas\u001b[0m \u001b[0mohu\u001b[0m\u001b[0;34m\u001b[0m\u001b[0;34m\u001b[0m\u001b[0m\n\u001b[0m",
            "\u001b[0;31mModuleNotFoundError\u001b[0m: No module named 'orca_hls_utils'",
            "",
            "\u001b[0;31m---------------------------------------------------------------------------\u001b[0;32m\nNOTE: If your import is failing due to a missing package, you can\nmanually install dependencies using either !pip or !apt.\n\nTo view examples of installing some common dependencies, click the\n\"Open Examples\" button below.\n\u001b[0;31m---------------------------------------------------------------------------\u001b[0m\n"
          ],
          "errorDetails": {
            "actions": [
              {
                "action": "open_url",
                "actionText": "Open Examples",
                "url": "/notebooks/snippets/importing_libraries.ipynb"
              }
            ]
          }
        }
      ],
      "source": [
        "import orca_hls_utils as ohu"
      ]
    },
    {
      "cell_type": "code",
      "execution_count": null,
      "metadata": {
        "id": "BtzNvOCugimT"
      },
      "outputs": [],
      "source": [
        "from orca_hls_utils.DateRangeHLSStream import DateRangeHLSStream"
      ]
    },
    {
      "cell_type": "markdown",
      "metadata": {
        "id": "gbnWjRMY0cHZ"
      },
      "source": [
        "### Reading Human Annotations"
      ]
    },
    {
      "cell_type": "markdown",
      "source": [
        "We will extract time stamps for echolocation from human annotations within the Orcasound website. The human annotations are stored in a Postgres Database on Heroku. Below we access an older dump of this database stored in a publicly accessible google sheet."
      ],
      "metadata": {
        "id": "xmF8uen7qJzY"
      }
    },
    {
      "cell_type": "code",
      "execution_count": null,
      "metadata": {
        "id": "ilXULX1vTqqa"
      },
      "outputs": [],
      "source": [
        "# getting the file from google sheets\n",
        "!wget  \"https://docs.google.com/spreadsheets/d/1G3TxQVMUN3GIzhW7FEqLipQEK95E0GfwZE-qbnMHTy4/export?format=csv\" -O human-detections.csv"
      ]
    },
    {
      "cell_type": "code",
      "execution_count": null,
      "metadata": {
        "id": "xySmA9cOIUOo"
      },
      "outputs": [],
      "source": [
        "df = pd.read_csv('human-detections.csv', parse_dates=['timestamp'])"
      ]
    },
    {
      "cell_type": "code",
      "execution_count": null,
      "metadata": {
        "id": "ZVVRZvs1BW5H"
      },
      "outputs": [],
      "source": [
        "df"
      ]
    },
    {
      "cell_type": "code",
      "execution_count": null,
      "metadata": {
        "id": "XhOgFCD9QdIW"
      },
      "outputs": [],
      "source": [
        "# select keys relevant to echolocation\n",
        "key_list = ['echolocation', 'clicks', 'clicking', 'click']"
      ]
    },
    {
      "cell_type": "code",
      "execution_count": null,
      "metadata": {
        "id": "2cmoIgIwXHVd"
      },
      "outputs": [],
      "source": [
        "df_clean = df.dropna(axis=0, subset=['description'])"
      ]
    },
    {
      "cell_type": "code",
      "execution_count": null,
      "metadata": {
        "id": "aAx7dN4pZ1aW"
      },
      "outputs": [],
      "source": [
        "df_key = df_clean.loc[df_clean['description'].str.contains('|'.join(key_list), case=False)]"
      ]
    },
    {
      "cell_type": "code",
      "execution_count": null,
      "metadata": {
        "id": "GyRFCyGZaJn1"
      },
      "outputs": [],
      "source": [
        "print('There are ' + str(df_key.shape[0]) + ' echolocation observations.')"
      ]
    },
    {
      "cell_type": "code",
      "execution_count": null,
      "metadata": {
        "id": "bMtXSpoOe54N"
      },
      "outputs": [],
      "source": [
        "df_key.timestamp"
      ]
    },
    {
      "cell_type": "code",
      "execution_count": null,
      "metadata": {
        "id": "qnMl_ch5_Av8"
      },
      "outputs": [],
      "source": [
        "# dictionary for different hydrophone nodes\n",
        "feed_dict = {1: 'orcasound_lab', 2: 'bush_point', 35: 'port_townsend'}"
      ]
    },
    {
      "cell_type": "code",
      "execution_count": null,
      "metadata": {
        "id": "1wPU5JrtBiCM"
      },
      "outputs": [],
      "source": [
        "# setting the stream base for the first echolocaiton example\n",
        "stream_base = 'https://s3-us-west-2.amazonaws.com/streaming-orcasound-net/rpi_' + feed_dict[df_key.iloc[0]['feed_id']]\n",
        "stream_base"
      ]
    },
    {
      "cell_type": "markdown",
      "source": [
        "### Downloading Segments for all Observations"
      ],
      "metadata": {
        "id": "-9aYJawpEDvh"
      }
    },
    {
      "cell_type": "markdown",
      "source": [
        "We will use the `DateRangeHLSStream` function of the `orca_hls_utils` package."
      ],
      "metadata": {
        "id": "e6ZVHxTJFdin"
      }
    },
    {
      "cell_type": "code",
      "execution_count": null,
      "metadata": {
        "id": "8b8wI3idhAOW"
      },
      "outputs": [],
      "source": [
        "# convert to unix time\n",
        "annot_unix_time = pd.to_datetime(df_key.timestamp.iloc[0]).replace(tzinfo=timezone.utc).timestamp()\n",
        "annot_unix_time"
      ]
    },
    {
      "cell_type": "code",
      "execution_count": null,
      "metadata": {
        "id": "R1u9ncDofbLh"
      },
      "outputs": [],
      "source": [
        "# using DateRangeHLSStream to extract a segment 60sec before the annot_unix_time\n",
        "\n",
        "stream = DateRangeHLSStream(stream_base = stream_base,\n",
        "    polling_interval = 60,\n",
        "    start_unix_time = annot_unix_time - 60,\n",
        "    end_unix_time = annot_unix_time,\n",
        "    wav_dir = './',\n",
        "    overwrite_output=True)"
      ]
    },
    {
      "cell_type": "code",
      "execution_count": null,
      "metadata": {
        "id": "qfjyIZTBhCrY"
      },
      "outputs": [],
      "source": [
        "stream.get_next_clip()"
      ]
    },
    {
      "cell_type": "code",
      "execution_count": null,
      "metadata": {
        "id": "qt29laCXtew6"
      },
      "outputs": [],
      "source": []
    },
    {
      "cell_type": "markdown",
      "source": [
        "Setting some parameters for the segments to extract segments. "
      ],
      "metadata": {
        "id": "rJJHrjYj7kZv"
      }
    },
    {
      "cell_type": "code",
      "execution_count": null,
      "metadata": {
        "id": "FsDofiXPGQva"
      },
      "outputs": [],
      "source": [
        "# number of seconds to go backwards and start from\n",
        "lag = 60\n",
        "\n",
        "# polling interval\n",
        "polling_interval = 60\n",
        "\n",
        "# output_path\n",
        "OUTPUT_PATH = './'"
      ]
    },
    {
      "cell_type": "code",
      "execution_count": null,
      "metadata": {
        "id": "K4CibsEVXnZM"
      },
      "outputs": [],
      "source": [
        "def download_segments(df_key, lag=60, polling_interval=60, output_path='./'):\n",
        "  \"\"\" \n",
        "     download_segments is a function to downloads the segments for all observations in a data frame.\n",
        "     The segments are downloaded in .wav format\n",
        "\n",
        "     Inputs\n",
        "     ------\n",
        "     df_key: a pandas dataframe with observations of interest\n",
        "     lag\n",
        "     polling_interval\n",
        "     OUTPUT_PATH: the path to store all segment files\n",
        "     \n",
        "  \"\"\"\n",
        "  for i in range(len(df_key)):\n",
        "    annot_unix_time = pd.to_datetime(df_clicks.timestamp.iloc[i]).replace(tzinfo=timezone.utc).timestamp()\n",
        "    stream_base = 'https://s3-us-west-2.amazonaws.com/streaming-orcasound-net/rpi_' + feed_dict[df_clicks.iloc[i]['feed_id']]\n",
        "    stream = DateRangeHLSStream(stream_base = stream_base,\n",
        "      polling_interval = polling_interval,\n",
        "      start_unix_time = annot_unix_time - lag,\n",
        "      end_unix_time = annot_unix_time,\n",
        "      wav_dir = output_path,\n",
        "      overwrite_output=True)\n",
        "    stream.get_next_clip()\n"
      ]
    },
    {
      "cell_type": "code",
      "execution_count": null,
      "metadata": {
        "colab": {
          "base_uri": "https://localhost:8080/",
          "height": 1000
        },
        "id": "wt7aqBXeaJCJ",
        "outputId": "e735345c-8d96-427a-f9bb-4f95c72c5ae4"
      },
      "outputs": [
        {
          "output_type": "stream",
          "name": "stdout",
          "text": [
            "Found 3514 folders in all for hydrophone\n",
            "Found 1 folders in date range\n",
            "Downloading live1664.ts\n"
          ]
        },
        {
          "output_type": "stream",
          "name": "stderr",
          "text": [
            "live1664.ts: 188kB [00:00, 363kB/s]                            \n"
          ]
        },
        {
          "output_type": "stream",
          "name": "stdout",
          "text": [
            "Downloading live1665.ts\n"
          ]
        },
        {
          "output_type": "stream",
          "name": "stderr",
          "text": [
            "live1665.ts: 188kB [00:00, 344kB/s]                            \n"
          ]
        },
        {
          "output_type": "stream",
          "name": "stdout",
          "text": [
            "Downloading live1666.ts\n"
          ]
        },
        {
          "output_type": "stream",
          "name": "stderr",
          "text": [
            "live1666.ts: 188kB [00:00, 366kB/s]                            \n"
          ]
        },
        {
          "output_type": "stream",
          "name": "stdout",
          "text": [
            "Downloading live1667.ts\n"
          ]
        },
        {
          "output_type": "stream",
          "name": "stderr",
          "text": [
            "live1667.ts: 188kB [00:00, 362kB/s]                            \n"
          ]
        },
        {
          "output_type": "stream",
          "name": "stdout",
          "text": [
            "Downloading live1668.ts\n"
          ]
        },
        {
          "output_type": "stream",
          "name": "stderr",
          "text": [
            "live1668.ts: 188kB [00:00, 368kB/s]                            \n"
          ]
        },
        {
          "output_type": "stream",
          "name": "stdout",
          "text": [
            "Downloading live1669.ts\n"
          ]
        },
        {
          "output_type": "stream",
          "name": "stderr",
          "text": [
            "live1669.ts: 188kB [00:00, 359kB/s]                            \n"
          ]
        },
        {
          "output_type": "stream",
          "name": "stdout",
          "text": [
            "Found 12653 folders in all for hydrophone\n",
            "Found 1 folders in date range\n",
            "Downloading live223.ts\n"
          ]
        },
        {
          "output_type": "stream",
          "name": "stderr",
          "text": [
            "live223.ts: 106kB [00:00, 226kB/s]                            \n"
          ]
        },
        {
          "output_type": "stream",
          "name": "stdout",
          "text": [
            "Downloading live224.ts\n"
          ]
        },
        {
          "output_type": "stream",
          "name": "stderr",
          "text": [
            "live224.ts: 106kB [00:00, 231kB/s]                            \n"
          ]
        },
        {
          "output_type": "stream",
          "name": "stdout",
          "text": [
            "Downloading live225.ts\n"
          ]
        },
        {
          "output_type": "stream",
          "name": "stderr",
          "text": [
            "live225.ts: 106kB [00:00, 205kB/s]                            \n"
          ]
        },
        {
          "output_type": "stream",
          "name": "stdout",
          "text": [
            "Downloading live226.ts\n"
          ]
        },
        {
          "output_type": "stream",
          "name": "stderr",
          "text": [
            "live226.ts: 106kB [00:00, 243kB/s]                            \n"
          ]
        },
        {
          "output_type": "stream",
          "name": "stdout",
          "text": [
            "Downloading live227.ts\n"
          ]
        },
        {
          "output_type": "stream",
          "name": "stderr",
          "text": [
            "live227.ts: 106kB [00:00, 236kB/s]                            \n"
          ]
        },
        {
          "output_type": "stream",
          "name": "stdout",
          "text": [
            "Downloading live228.ts\n"
          ]
        },
        {
          "output_type": "stream",
          "name": "stderr",
          "text": [
            "live228.ts: 106kB [00:00, 231kB/s]                            \n"
          ]
        },
        {
          "output_type": "stream",
          "name": "stdout",
          "text": [
            "Found 4678 folders in all for hydrophone\n",
            "Found 1 folders in date range\n",
            "Downloading live954.ts\n"
          ]
        },
        {
          "output_type": "stream",
          "name": "stderr",
          "text": [
            "live954.ts: 106kB [00:00, 231kB/s]                            \n"
          ]
        },
        {
          "output_type": "stream",
          "name": "stdout",
          "text": [
            "Downloading live955.ts\n"
          ]
        },
        {
          "output_type": "stream",
          "name": "stderr",
          "text": [
            "live955.ts: 106kB [00:00, 201kB/s]                            \n"
          ]
        },
        {
          "output_type": "stream",
          "name": "stdout",
          "text": [
            "Downloading live956.ts\n"
          ]
        },
        {
          "output_type": "stream",
          "name": "stderr",
          "text": [
            "live956.ts: 106kB [00:00, 225kB/s]                            \n"
          ]
        },
        {
          "output_type": "stream",
          "name": "stdout",
          "text": [
            "Downloading live957.ts\n"
          ]
        },
        {
          "output_type": "stream",
          "name": "stderr",
          "text": [
            "live957.ts: 106kB [00:00, 233kB/s]                             \n"
          ]
        },
        {
          "output_type": "stream",
          "name": "stdout",
          "text": [
            "Downloading live958.ts\n"
          ]
        },
        {
          "output_type": "stream",
          "name": "stderr",
          "text": [
            "live958.ts: 106kB [00:00, 224kB/s]                            \n"
          ]
        },
        {
          "output_type": "stream",
          "name": "stdout",
          "text": [
            "Downloading live959.ts\n"
          ]
        },
        {
          "output_type": "stream",
          "name": "stderr",
          "text": [
            "live959.ts: 106kB [00:00, 236kB/s]                            \n"
          ]
        },
        {
          "output_type": "stream",
          "name": "stdout",
          "text": [
            "Found 12653 folders in all for hydrophone\n",
            "Found 1 folders in date range\n",
            "Downloading live011.ts\n"
          ]
        },
        {
          "output_type": "stream",
          "name": "stderr",
          "text": [
            "live011.ts: 90.1kB [00:00, 199kB/s]                            \n"
          ]
        },
        {
          "output_type": "stream",
          "name": "stdout",
          "text": [
            "Downloading live012.ts\n"
          ]
        },
        {
          "output_type": "stream",
          "name": "stderr",
          "text": [
            "live012.ts: 81.9kB [00:00, 149kB/s]                            \n"
          ]
        },
        {
          "output_type": "stream",
          "name": "stdout",
          "text": [
            "Downloading live013.ts\n"
          ]
        },
        {
          "output_type": "stream",
          "name": "stderr",
          "text": [
            "live013.ts: 90.1kB [00:00, 192kB/s]                            \n"
          ]
        },
        {
          "output_type": "stream",
          "name": "stdout",
          "text": [
            "Downloading live014.ts\n"
          ]
        },
        {
          "output_type": "stream",
          "name": "stderr",
          "text": [
            "live014.ts: 90.1kB [00:00, 178kB/s]                            \n"
          ]
        },
        {
          "output_type": "stream",
          "name": "stdout",
          "text": [
            "Downloading live015.ts\n"
          ]
        },
        {
          "output_type": "stream",
          "name": "stderr",
          "text": [
            "live015.ts: 90.1kB [00:00, 177kB/s]                            \n"
          ]
        },
        {
          "output_type": "stream",
          "name": "stdout",
          "text": [
            "Downloading live016.ts\n"
          ]
        },
        {
          "output_type": "stream",
          "name": "stderr",
          "text": [
            "live016.ts: 81.9kB [00:00, 148kB/s]                            \n"
          ]
        },
        {
          "output_type": "stream",
          "name": "stdout",
          "text": [
            "Found 12653 folders in all for hydrophone\n",
            "Found 1 folders in date range\n",
            "Downloading live007.ts\n"
          ]
        },
        {
          "output_type": "stream",
          "name": "stderr",
          "text": [
            "live007.ts: 90.1kB [00:00, 205kB/s]                             \n"
          ]
        },
        {
          "output_type": "stream",
          "name": "stdout",
          "text": [
            "Downloading live008.ts\n"
          ]
        },
        {
          "output_type": "stream",
          "name": "stderr",
          "text": [
            "live008.ts: 90.1kB [00:00, 194kB/s]                             \n"
          ]
        },
        {
          "output_type": "stream",
          "name": "stdout",
          "text": [
            "Downloading live009.ts\n"
          ]
        },
        {
          "output_type": "stream",
          "name": "stderr",
          "text": [
            "live009.ts: 90.1kB [00:00, 182kB/s]                            \n"
          ]
        },
        {
          "output_type": "stream",
          "name": "stdout",
          "text": [
            "Downloading live010.ts\n"
          ]
        },
        {
          "output_type": "stream",
          "name": "stderr",
          "text": [
            "live010.ts: 90.1kB [00:00, 186kB/s]                            \n"
          ]
        },
        {
          "output_type": "stream",
          "name": "stdout",
          "text": [
            "Downloading live011.ts\n"
          ]
        },
        {
          "output_type": "stream",
          "name": "stderr",
          "text": [
            "live011.ts: 90.1kB [00:00, 217kB/s]                            \n"
          ]
        },
        {
          "output_type": "stream",
          "name": "stdout",
          "text": [
            "Downloading live012.ts\n"
          ]
        },
        {
          "output_type": "stream",
          "name": "stderr",
          "text": [
            "live012.ts: 81.9kB [00:00, 174kB/s]                            \n"
          ]
        },
        {
          "output_type": "stream",
          "name": "stdout",
          "text": [
            "Found 4678 folders in all for hydrophone\n",
            "Found 1 folders in date range\n",
            "Downloading live1033.ts\n"
          ]
        },
        {
          "output_type": "stream",
          "name": "stderr",
          "text": [
            "live1033.ts: 106kB [00:00, 227kB/s]                            \n"
          ]
        },
        {
          "output_type": "stream",
          "name": "stdout",
          "text": [
            "Downloading live1034.ts\n"
          ]
        },
        {
          "output_type": "stream",
          "name": "stderr",
          "text": [
            "live1034.ts: 106kB [00:00, 224kB/s]                            \n"
          ]
        },
        {
          "output_type": "stream",
          "name": "stdout",
          "text": [
            "Downloading live1035.ts\n"
          ]
        },
        {
          "output_type": "stream",
          "name": "stderr",
          "text": [
            "live1035.ts: 106kB [00:00, 232kB/s]                             \n"
          ]
        },
        {
          "output_type": "stream",
          "name": "stdout",
          "text": [
            "Downloading live1036.ts\n"
          ]
        },
        {
          "output_type": "stream",
          "name": "stderr",
          "text": [
            "live1036.ts: 106kB [00:00, 232kB/s]                            \n"
          ]
        },
        {
          "output_type": "stream",
          "name": "stdout",
          "text": [
            "Downloading live1037.ts\n"
          ]
        },
        {
          "output_type": "stream",
          "name": "stderr",
          "text": [
            "live1037.ts: 106kB [00:00, 233kB/s]                            \n"
          ]
        },
        {
          "output_type": "stream",
          "name": "stdout",
          "text": [
            "Downloading live1038.ts\n"
          ]
        },
        {
          "output_type": "stream",
          "name": "stderr",
          "text": [
            "live1038.ts: 106kB [00:00, 227kB/s]                            \n"
          ]
        },
        {
          "output_type": "stream",
          "name": "stdout",
          "text": [
            "Found 4678 folders in all for hydrophone\n",
            "Found 1 folders in date range\n",
            "Downloading live1850.ts\n"
          ]
        },
        {
          "output_type": "stream",
          "name": "stderr",
          "text": [
            "live1850.ts: 106kB [00:00, 222kB/s]                            \n"
          ]
        },
        {
          "output_type": "stream",
          "name": "stdout",
          "text": [
            "Downloading live1851.ts\n"
          ]
        },
        {
          "output_type": "stream",
          "name": "stderr",
          "text": [
            "live1851.ts: 106kB [00:00, 224kB/s]                            \n"
          ]
        },
        {
          "output_type": "stream",
          "name": "stdout",
          "text": [
            "Downloading live1852.ts\n"
          ]
        },
        {
          "output_type": "stream",
          "name": "stderr",
          "text": [
            "live1852.ts: 106kB [00:00, 236kB/s]                            \n"
          ]
        },
        {
          "output_type": "stream",
          "name": "stdout",
          "text": [
            "Downloading live1853.ts\n"
          ]
        },
        {
          "output_type": "stream",
          "name": "stderr",
          "text": [
            "live1853.ts: 106kB [00:00, 245kB/s]                             \n"
          ]
        },
        {
          "output_type": "stream",
          "name": "stdout",
          "text": [
            "Downloading live1854.ts\n"
          ]
        },
        {
          "output_type": "stream",
          "name": "stderr",
          "text": [
            "live1854.ts: 106kB [00:00, 222kB/s]                            \n"
          ]
        },
        {
          "output_type": "stream",
          "name": "stdout",
          "text": [
            "Downloading live1855.ts\n"
          ]
        },
        {
          "output_type": "stream",
          "name": "stderr",
          "text": [
            "live1855.ts: 106kB [00:00, 231kB/s]                            \n"
          ]
        },
        {
          "output_type": "stream",
          "name": "stdout",
          "text": [
            "Found 4678 folders in all for hydrophone\n",
            "Found 1 folders in date range\n",
            "Downloading live1852.ts\n"
          ]
        },
        {
          "output_type": "stream",
          "name": "stderr",
          "text": [
            "live1852.ts: 106kB [00:00, 244kB/s]                            \n"
          ]
        },
        {
          "output_type": "stream",
          "name": "stdout",
          "text": [
            "Downloading live1853.ts\n"
          ]
        },
        {
          "output_type": "stream",
          "name": "stderr",
          "text": [
            "live1853.ts: 106kB [00:00, 224kB/s]                            \n"
          ]
        },
        {
          "output_type": "stream",
          "name": "stdout",
          "text": [
            "Downloading live1854.ts\n"
          ]
        },
        {
          "output_type": "stream",
          "name": "stderr",
          "text": [
            "live1854.ts: 106kB [00:00, 235kB/s]                            \n"
          ]
        },
        {
          "output_type": "stream",
          "name": "stdout",
          "text": [
            "Downloading live1855.ts\n"
          ]
        },
        {
          "output_type": "stream",
          "name": "stderr",
          "text": [
            "live1855.ts: 106kB [00:00, 242kB/s]                            \n"
          ]
        },
        {
          "output_type": "stream",
          "name": "stdout",
          "text": [
            "Downloading live1856.ts\n"
          ]
        },
        {
          "output_type": "stream",
          "name": "stderr",
          "text": [
            "live1856.ts: 106kB [00:00, 215kB/s]                            \n"
          ]
        },
        {
          "output_type": "stream",
          "name": "stdout",
          "text": [
            "Downloading live1857.ts\n"
          ]
        },
        {
          "output_type": "stream",
          "name": "stderr",
          "text": [
            "live1857.ts: 106kB [00:00, 222kB/s]                             \n"
          ]
        },
        {
          "output_type": "stream",
          "name": "stdout",
          "text": [
            "Found 4678 folders in all for hydrophone\n",
            "Found 1 folders in date range\n",
            "Downloading live1858.ts\n"
          ]
        },
        {
          "output_type": "stream",
          "name": "stderr",
          "text": [
            "live1858.ts: 106kB [00:00, 237kB/s]                            \n"
          ]
        },
        {
          "output_type": "stream",
          "name": "stdout",
          "text": [
            "Downloading live1859.ts\n"
          ]
        },
        {
          "output_type": "stream",
          "name": "stderr",
          "text": [
            "live1859.ts: 106kB [00:00, 224kB/s]                            \n"
          ]
        },
        {
          "output_type": "stream",
          "name": "stdout",
          "text": [
            "Downloading live1860.ts\n"
          ]
        },
        {
          "output_type": "stream",
          "name": "stderr",
          "text": [
            "live1860.ts: 106kB [00:00, 234kB/s]                            \n"
          ]
        },
        {
          "output_type": "stream",
          "name": "stdout",
          "text": [
            "Downloading live1861.ts\n"
          ]
        },
        {
          "output_type": "stream",
          "name": "stderr",
          "text": [
            "live1861.ts: 106kB [00:00, 230kB/s]                            \n"
          ]
        },
        {
          "output_type": "stream",
          "name": "stdout",
          "text": [
            "Downloading live1862.ts\n"
          ]
        },
        {
          "output_type": "stream",
          "name": "stderr",
          "text": [
            "live1862.ts: 106kB [00:00, 226kB/s]                            \n"
          ]
        },
        {
          "output_type": "stream",
          "name": "stdout",
          "text": [
            "Downloading live1863.ts\n"
          ]
        },
        {
          "output_type": "stream",
          "name": "stderr",
          "text": [
            "live1863.ts: 106kB [00:00, 227kB/s]                             \n"
          ]
        },
        {
          "output_type": "error",
          "ename": "KeyboardInterrupt",
          "evalue": "ignored",
          "traceback": [
            "\u001b[0;31m---------------------------------------------------------------------------\u001b[0m",
            "\u001b[0;31mKeyboardInterrupt\u001b[0m                         Traceback (most recent call last)",
            "\u001b[0;32m<ipython-input-35-a42f9f94ea56>\u001b[0m in \u001b[0;36m<module>\u001b[0;34m()\u001b[0m\n\u001b[1;32m      1\u001b[0m \u001b[0;31m# downloading all segments: this will take a while\u001b[0m\u001b[0;34m\u001b[0m\u001b[0;34m\u001b[0m\u001b[0;34m\u001b[0m\u001b[0m\n\u001b[0;32m----> 2\u001b[0;31m \u001b[0mdownload_segments\u001b[0m\u001b[0;34m(\u001b[0m\u001b[0mdf_key\u001b[0m\u001b[0;34m)\u001b[0m\u001b[0;34m\u001b[0m\u001b[0;34m\u001b[0m\u001b[0m\n\u001b[0m",
            "\u001b[0;32m<ipython-input-34-8b3746fa114f>\u001b[0m in \u001b[0;36mdownload_segments\u001b[0;34m(df_key, lag, polling_interval, output_path)\u001b[0m\n\u001b[1;32m     20\u001b[0m       \u001b[0mend_unix_time\u001b[0m \u001b[0;34m=\u001b[0m \u001b[0mannot_unix_time\u001b[0m\u001b[0;34m,\u001b[0m\u001b[0;34m\u001b[0m\u001b[0;34m\u001b[0m\u001b[0m\n\u001b[1;32m     21\u001b[0m       \u001b[0mwav_dir\u001b[0m \u001b[0;34m=\u001b[0m \u001b[0moutput_path\u001b[0m\u001b[0;34m,\u001b[0m\u001b[0;34m\u001b[0m\u001b[0;34m\u001b[0m\u001b[0m\n\u001b[0;32m---> 22\u001b[0;31m       overwrite_output=True)\n\u001b[0m\u001b[1;32m     23\u001b[0m     \u001b[0mstream\u001b[0m\u001b[0;34m.\u001b[0m\u001b[0mget_next_clip\u001b[0m\u001b[0;34m(\u001b[0m\u001b[0;34m)\u001b[0m\u001b[0;34m\u001b[0m\u001b[0;34m\u001b[0m\u001b[0m\n",
            "\u001b[0;32m/usr/local/lib/python3.7/dist-packages/orca_hls_utils/DateRangeHLSStream.py\u001b[0m in \u001b[0;36m__init__\u001b[0;34m(self, stream_base, polling_interval, start_unix_time, end_unix_time, wav_dir, overwrite_output, real_time)\u001b[0m\n\u001b[1;32m     66\u001b[0m         \u001b[0;31m# returns folder names corresponding to epochs, this grows as more data is added, we should probably maintain a list of\u001b[0m\u001b[0;34m\u001b[0m\u001b[0;34m\u001b[0m\u001b[0;34m\u001b[0m\u001b[0m\n\u001b[1;32m     67\u001b[0m         \u001b[0;31m# hydrophone folders that exist\u001b[0m\u001b[0;34m\u001b[0m\u001b[0;34m\u001b[0m\u001b[0;34m\u001b[0m\u001b[0m\n\u001b[0;32m---> 68\u001b[0;31m         \u001b[0mall_hydrophone_folders\u001b[0m \u001b[0;34m=\u001b[0m \u001b[0ms3_utils\u001b[0m\u001b[0;34m.\u001b[0m\u001b[0mget_all_folders\u001b[0m\u001b[0;34m(\u001b[0m\u001b[0mself\u001b[0m\u001b[0;34m.\u001b[0m\u001b[0ms3_bucket\u001b[0m\u001b[0;34m,\u001b[0m \u001b[0mprefix\u001b[0m\u001b[0;34m=\u001b[0m\u001b[0mprefix\u001b[0m\u001b[0;34m)\u001b[0m\u001b[0;34m\u001b[0m\u001b[0;34m\u001b[0m\u001b[0m\n\u001b[0m\u001b[1;32m     69\u001b[0m         \u001b[0mprint\u001b[0m\u001b[0;34m(\u001b[0m\u001b[0;34m\"Found {} folders in all for hydrophone\"\u001b[0m\u001b[0;34m.\u001b[0m\u001b[0mformat\u001b[0m\u001b[0;34m(\u001b[0m\u001b[0mlen\u001b[0m\u001b[0;34m(\u001b[0m\u001b[0mall_hydrophone_folders\u001b[0m\u001b[0;34m)\u001b[0m\u001b[0;34m)\u001b[0m\u001b[0;34m)\u001b[0m\u001b[0;34m\u001b[0m\u001b[0;34m\u001b[0m\u001b[0m\n\u001b[1;32m     70\u001b[0m \u001b[0;34m\u001b[0m\u001b[0m\n",
            "\u001b[0;32m/usr/local/lib/python3.7/dist-packages/orca_hls_utils/s3_utils.py\u001b[0m in \u001b[0;36mget_all_folders\u001b[0;34m(bucket, prefix)\u001b[0m\n\u001b[1;32m     24\u001b[0m     \u001b[0;31m# So not making any assumptions\u001b[0m\u001b[0;34m\u001b[0m\u001b[0;34m\u001b[0m\u001b[0;34m\u001b[0m\u001b[0m\n\u001b[1;32m     25\u001b[0m \u001b[0;34m\u001b[0m\u001b[0m\n\u001b[0;32m---> 26\u001b[0;31m     \u001b[0;32mfor\u001b[0m \u001b[0mpage\u001b[0m \u001b[0;32min\u001b[0m \u001b[0mpaginator\u001b[0m\u001b[0;34m.\u001b[0m\u001b[0mpaginate\u001b[0m\u001b[0;34m(\u001b[0m\u001b[0;34m**\u001b[0m\u001b[0mkwargs\u001b[0m\u001b[0;34m)\u001b[0m\u001b[0;34m:\u001b[0m\u001b[0;34m\u001b[0m\u001b[0;34m\u001b[0m\u001b[0m\n\u001b[0m\u001b[1;32m     27\u001b[0m         \u001b[0;32mtry\u001b[0m\u001b[0;34m:\u001b[0m\u001b[0;34m\u001b[0m\u001b[0;34m\u001b[0m\u001b[0m\n\u001b[1;32m     28\u001b[0m             \u001b[0mcommon_prefixes\u001b[0m \u001b[0;34m=\u001b[0m \u001b[0mpage\u001b[0m\u001b[0;34m[\u001b[0m\u001b[0;34m\"CommonPrefixes\"\u001b[0m\u001b[0;34m]\u001b[0m\u001b[0;34m\u001b[0m\u001b[0;34m\u001b[0m\u001b[0m\n",
            "\u001b[0;32m/usr/local/lib/python3.7/dist-packages/botocore/paginate.py\u001b[0m in \u001b[0;36m__iter__\u001b[0;34m(self)\u001b[0m\n\u001b[1;32m    253\u001b[0m         \u001b[0mself\u001b[0m\u001b[0;34m.\u001b[0m\u001b[0m_inject_starting_params\u001b[0m\u001b[0;34m(\u001b[0m\u001b[0mcurrent_kwargs\u001b[0m\u001b[0;34m)\u001b[0m\u001b[0;34m\u001b[0m\u001b[0;34m\u001b[0m\u001b[0m\n\u001b[1;32m    254\u001b[0m         \u001b[0;32mwhile\u001b[0m \u001b[0;32mTrue\u001b[0m\u001b[0;34m:\u001b[0m\u001b[0;34m\u001b[0m\u001b[0;34m\u001b[0m\u001b[0m\n\u001b[0;32m--> 255\u001b[0;31m             \u001b[0mresponse\u001b[0m \u001b[0;34m=\u001b[0m \u001b[0mself\u001b[0m\u001b[0;34m.\u001b[0m\u001b[0m_make_request\u001b[0m\u001b[0;34m(\u001b[0m\u001b[0mcurrent_kwargs\u001b[0m\u001b[0;34m)\u001b[0m\u001b[0;34m\u001b[0m\u001b[0;34m\u001b[0m\u001b[0m\n\u001b[0m\u001b[1;32m    256\u001b[0m             \u001b[0mparsed\u001b[0m \u001b[0;34m=\u001b[0m \u001b[0mself\u001b[0m\u001b[0;34m.\u001b[0m\u001b[0m_extract_parsed_response\u001b[0m\u001b[0;34m(\u001b[0m\u001b[0mresponse\u001b[0m\u001b[0;34m)\u001b[0m\u001b[0;34m\u001b[0m\u001b[0;34m\u001b[0m\u001b[0m\n\u001b[1;32m    257\u001b[0m             \u001b[0;32mif\u001b[0m \u001b[0mfirst_request\u001b[0m\u001b[0;34m:\u001b[0m\u001b[0;34m\u001b[0m\u001b[0;34m\u001b[0m\u001b[0m\n",
            "\u001b[0;32m/usr/local/lib/python3.7/dist-packages/botocore/paginate.py\u001b[0m in \u001b[0;36m_make_request\u001b[0;34m(self, current_kwargs)\u001b[0m\n\u001b[1;32m    332\u001b[0m \u001b[0;34m\u001b[0m\u001b[0m\n\u001b[1;32m    333\u001b[0m     \u001b[0;32mdef\u001b[0m \u001b[0m_make_request\u001b[0m\u001b[0;34m(\u001b[0m\u001b[0mself\u001b[0m\u001b[0;34m,\u001b[0m \u001b[0mcurrent_kwargs\u001b[0m\u001b[0;34m)\u001b[0m\u001b[0;34m:\u001b[0m\u001b[0;34m\u001b[0m\u001b[0;34m\u001b[0m\u001b[0m\n\u001b[0;32m--> 334\u001b[0;31m         \u001b[0;32mreturn\u001b[0m \u001b[0mself\u001b[0m\u001b[0;34m.\u001b[0m\u001b[0m_method\u001b[0m\u001b[0;34m(\u001b[0m\u001b[0;34m**\u001b[0m\u001b[0mcurrent_kwargs\u001b[0m\u001b[0;34m)\u001b[0m\u001b[0;34m\u001b[0m\u001b[0;34m\u001b[0m\u001b[0m\n\u001b[0m\u001b[1;32m    335\u001b[0m \u001b[0;34m\u001b[0m\u001b[0m\n\u001b[1;32m    336\u001b[0m     \u001b[0;32mdef\u001b[0m \u001b[0m_extract_parsed_response\u001b[0m\u001b[0;34m(\u001b[0m\u001b[0mself\u001b[0m\u001b[0;34m,\u001b[0m \u001b[0mresponse\u001b[0m\u001b[0;34m)\u001b[0m\u001b[0;34m:\u001b[0m\u001b[0;34m\u001b[0m\u001b[0;34m\u001b[0m\u001b[0m\n",
            "\u001b[0;32m/usr/local/lib/python3.7/dist-packages/botocore/client.py\u001b[0m in \u001b[0;36m_api_call\u001b[0;34m(self, *args, **kwargs)\u001b[0m\n\u001b[1;32m    389\u001b[0m                     \"%s() only accepts keyword arguments.\" % py_operation_name)\n\u001b[1;32m    390\u001b[0m             \u001b[0;31m# The \"self\" in this scope is referring to the BaseClient.\u001b[0m\u001b[0;34m\u001b[0m\u001b[0;34m\u001b[0m\u001b[0;34m\u001b[0m\u001b[0m\n\u001b[0;32m--> 391\u001b[0;31m             \u001b[0;32mreturn\u001b[0m \u001b[0mself\u001b[0m\u001b[0;34m.\u001b[0m\u001b[0m_make_api_call\u001b[0m\u001b[0;34m(\u001b[0m\u001b[0moperation_name\u001b[0m\u001b[0;34m,\u001b[0m \u001b[0mkwargs\u001b[0m\u001b[0;34m)\u001b[0m\u001b[0;34m\u001b[0m\u001b[0;34m\u001b[0m\u001b[0m\n\u001b[0m\u001b[1;32m    392\u001b[0m \u001b[0;34m\u001b[0m\u001b[0m\n\u001b[1;32m    393\u001b[0m         \u001b[0m_api_call\u001b[0m\u001b[0;34m.\u001b[0m\u001b[0m__name__\u001b[0m \u001b[0;34m=\u001b[0m \u001b[0mstr\u001b[0m\u001b[0;34m(\u001b[0m\u001b[0mpy_operation_name\u001b[0m\u001b[0;34m)\u001b[0m\u001b[0;34m\u001b[0m\u001b[0;34m\u001b[0m\u001b[0m\n",
            "\u001b[0;32m/usr/local/lib/python3.7/dist-packages/botocore/client.py\u001b[0m in \u001b[0;36m_make_api_call\u001b[0;34m(self, operation_name, api_params)\u001b[0m\n\u001b[1;32m    704\u001b[0m         \u001b[0;32melse\u001b[0m\u001b[0;34m:\u001b[0m\u001b[0;34m\u001b[0m\u001b[0;34m\u001b[0m\u001b[0m\n\u001b[1;32m    705\u001b[0m             http, parsed_response = self._make_request(\n\u001b[0;32m--> 706\u001b[0;31m                 operation_model, request_dict, request_context)\n\u001b[0m\u001b[1;32m    707\u001b[0m \u001b[0;34m\u001b[0m\u001b[0m\n\u001b[1;32m    708\u001b[0m         self.meta.events.emit(\n",
            "\u001b[0;32m/usr/local/lib/python3.7/dist-packages/botocore/client.py\u001b[0m in \u001b[0;36m_make_request\u001b[0;34m(self, operation_model, request_dict, request_context)\u001b[0m\n\u001b[1;32m    723\u001b[0m     \u001b[0;32mdef\u001b[0m \u001b[0m_make_request\u001b[0m\u001b[0;34m(\u001b[0m\u001b[0mself\u001b[0m\u001b[0;34m,\u001b[0m \u001b[0moperation_model\u001b[0m\u001b[0;34m,\u001b[0m \u001b[0mrequest_dict\u001b[0m\u001b[0;34m,\u001b[0m \u001b[0mrequest_context\u001b[0m\u001b[0;34m)\u001b[0m\u001b[0;34m:\u001b[0m\u001b[0;34m\u001b[0m\u001b[0;34m\u001b[0m\u001b[0m\n\u001b[1;32m    724\u001b[0m         \u001b[0;32mtry\u001b[0m\u001b[0;34m:\u001b[0m\u001b[0;34m\u001b[0m\u001b[0;34m\u001b[0m\u001b[0m\n\u001b[0;32m--> 725\u001b[0;31m             \u001b[0;32mreturn\u001b[0m \u001b[0mself\u001b[0m\u001b[0;34m.\u001b[0m\u001b[0m_endpoint\u001b[0m\u001b[0;34m.\u001b[0m\u001b[0mmake_request\u001b[0m\u001b[0;34m(\u001b[0m\u001b[0moperation_model\u001b[0m\u001b[0;34m,\u001b[0m \u001b[0mrequest_dict\u001b[0m\u001b[0;34m)\u001b[0m\u001b[0;34m\u001b[0m\u001b[0;34m\u001b[0m\u001b[0m\n\u001b[0m\u001b[1;32m    726\u001b[0m         \u001b[0;32mexcept\u001b[0m \u001b[0mException\u001b[0m \u001b[0;32mas\u001b[0m \u001b[0me\u001b[0m\u001b[0;34m:\u001b[0m\u001b[0;34m\u001b[0m\u001b[0;34m\u001b[0m\u001b[0m\n\u001b[1;32m    727\u001b[0m             self.meta.events.emit(\n",
            "\u001b[0;32m/usr/local/lib/python3.7/dist-packages/botocore/endpoint.py\u001b[0m in \u001b[0;36mmake_request\u001b[0;34m(self, operation_model, request_dict)\u001b[0m\n\u001b[1;32m    104\u001b[0m         logger.debug(\"Making request for %s with params: %s\",\n\u001b[1;32m    105\u001b[0m                      operation_model, request_dict)\n\u001b[0;32m--> 106\u001b[0;31m         \u001b[0;32mreturn\u001b[0m \u001b[0mself\u001b[0m\u001b[0;34m.\u001b[0m\u001b[0m_send_request\u001b[0m\u001b[0;34m(\u001b[0m\u001b[0mrequest_dict\u001b[0m\u001b[0;34m,\u001b[0m \u001b[0moperation_model\u001b[0m\u001b[0;34m)\u001b[0m\u001b[0;34m\u001b[0m\u001b[0;34m\u001b[0m\u001b[0m\n\u001b[0m\u001b[1;32m    107\u001b[0m \u001b[0;34m\u001b[0m\u001b[0m\n\u001b[1;32m    108\u001b[0m     \u001b[0;32mdef\u001b[0m \u001b[0mcreate_request\u001b[0m\u001b[0;34m(\u001b[0m\u001b[0mself\u001b[0m\u001b[0;34m,\u001b[0m \u001b[0mparams\u001b[0m\u001b[0;34m,\u001b[0m \u001b[0moperation_model\u001b[0m\u001b[0;34m=\u001b[0m\u001b[0;32mNone\u001b[0m\u001b[0;34m)\u001b[0m\u001b[0;34m:\u001b[0m\u001b[0;34m\u001b[0m\u001b[0;34m\u001b[0m\u001b[0m\n",
            "\u001b[0;32m/usr/local/lib/python3.7/dist-packages/botocore/endpoint.py\u001b[0m in \u001b[0;36m_send_request\u001b[0;34m(self, request_dict, operation_model)\u001b[0m\n\u001b[1;32m    179\u001b[0m         \u001b[0mrequest\u001b[0m \u001b[0;34m=\u001b[0m \u001b[0mself\u001b[0m\u001b[0;34m.\u001b[0m\u001b[0mcreate_request\u001b[0m\u001b[0;34m(\u001b[0m\u001b[0mrequest_dict\u001b[0m\u001b[0;34m,\u001b[0m \u001b[0moperation_model\u001b[0m\u001b[0;34m)\u001b[0m\u001b[0;34m\u001b[0m\u001b[0;34m\u001b[0m\u001b[0m\n\u001b[1;32m    180\u001b[0m         success_response, exception = self._get_response(\n\u001b[0;32m--> 181\u001b[0;31m             request, operation_model, context)\n\u001b[0m\u001b[1;32m    182\u001b[0m         while self._needs_retry(attempts, operation_model, request_dict,\n\u001b[1;32m    183\u001b[0m                                 success_response, exception):\n",
            "\u001b[0;32m/usr/local/lib/python3.7/dist-packages/botocore/endpoint.py\u001b[0m in \u001b[0;36m_get_response\u001b[0;34m(self, request, operation_model, context)\u001b[0m\n\u001b[1;32m    213\u001b[0m         \u001b[0;31m# If no exception occurs then exception is None.\u001b[0m\u001b[0;34m\u001b[0m\u001b[0;34m\u001b[0m\u001b[0;34m\u001b[0m\u001b[0m\n\u001b[1;32m    214\u001b[0m         success_response, exception = self._do_get_response(\n\u001b[0;32m--> 215\u001b[0;31m             request, operation_model)\n\u001b[0m\u001b[1;32m    216\u001b[0m         kwargs_to_emit = {\n\u001b[1;32m    217\u001b[0m             \u001b[0;34m'response_dict'\u001b[0m\u001b[0;34m:\u001b[0m \u001b[0;32mNone\u001b[0m\u001b[0;34m,\u001b[0m\u001b[0;34m\u001b[0m\u001b[0;34m\u001b[0m\u001b[0m\n",
            "\u001b[0;32m/usr/local/lib/python3.7/dist-packages/botocore/endpoint.py\u001b[0m in \u001b[0;36m_do_get_response\u001b[0;34m(self, request, operation_model)\u001b[0m\n\u001b[1;32m    246\u001b[0m             \u001b[0mhttp_response\u001b[0m \u001b[0;34m=\u001b[0m \u001b[0mfirst_non_none_response\u001b[0m\u001b[0;34m(\u001b[0m\u001b[0mresponses\u001b[0m\u001b[0;34m)\u001b[0m\u001b[0;34m\u001b[0m\u001b[0;34m\u001b[0m\u001b[0m\n\u001b[1;32m    247\u001b[0m             \u001b[0;32mif\u001b[0m \u001b[0mhttp_response\u001b[0m \u001b[0;32mis\u001b[0m \u001b[0;32mNone\u001b[0m\u001b[0;34m:\u001b[0m\u001b[0;34m\u001b[0m\u001b[0;34m\u001b[0m\u001b[0m\n\u001b[0;32m--> 248\u001b[0;31m                 \u001b[0mhttp_response\u001b[0m \u001b[0;34m=\u001b[0m \u001b[0mself\u001b[0m\u001b[0;34m.\u001b[0m\u001b[0m_send\u001b[0m\u001b[0;34m(\u001b[0m\u001b[0mrequest\u001b[0m\u001b[0;34m)\u001b[0m\u001b[0;34m\u001b[0m\u001b[0;34m\u001b[0m\u001b[0m\n\u001b[0m\u001b[1;32m    249\u001b[0m         \u001b[0;32mexcept\u001b[0m \u001b[0mHTTPClientError\u001b[0m \u001b[0;32mas\u001b[0m \u001b[0me\u001b[0m\u001b[0;34m:\u001b[0m\u001b[0;34m\u001b[0m\u001b[0;34m\u001b[0m\u001b[0m\n\u001b[1;32m    250\u001b[0m             \u001b[0;32mreturn\u001b[0m \u001b[0;34m(\u001b[0m\u001b[0;32mNone\u001b[0m\u001b[0;34m,\u001b[0m \u001b[0me\u001b[0m\u001b[0;34m)\u001b[0m\u001b[0;34m\u001b[0m\u001b[0;34m\u001b[0m\u001b[0m\n",
            "\u001b[0;32m/usr/local/lib/python3.7/dist-packages/botocore/endpoint.py\u001b[0m in \u001b[0;36m_send\u001b[0;34m(self, request)\u001b[0m\n\u001b[1;32m    315\u001b[0m \u001b[0;34m\u001b[0m\u001b[0m\n\u001b[1;32m    316\u001b[0m     \u001b[0;32mdef\u001b[0m \u001b[0m_send\u001b[0m\u001b[0;34m(\u001b[0m\u001b[0mself\u001b[0m\u001b[0;34m,\u001b[0m \u001b[0mrequest\u001b[0m\u001b[0;34m)\u001b[0m\u001b[0;34m:\u001b[0m\u001b[0;34m\u001b[0m\u001b[0;34m\u001b[0m\u001b[0m\n\u001b[0;32m--> 317\u001b[0;31m         \u001b[0;32mreturn\u001b[0m \u001b[0mself\u001b[0m\u001b[0;34m.\u001b[0m\u001b[0mhttp_session\u001b[0m\u001b[0;34m.\u001b[0m\u001b[0msend\u001b[0m\u001b[0;34m(\u001b[0m\u001b[0mrequest\u001b[0m\u001b[0;34m)\u001b[0m\u001b[0;34m\u001b[0m\u001b[0;34m\u001b[0m\u001b[0m\n\u001b[0m\u001b[1;32m    318\u001b[0m \u001b[0;34m\u001b[0m\u001b[0m\n\u001b[1;32m    319\u001b[0m \u001b[0;34m\u001b[0m\u001b[0m\n",
            "\u001b[0;32m/usr/local/lib/python3.7/dist-packages/botocore/httpsession.py\u001b[0m in \u001b[0;36msend\u001b[0;34m(self, request)\u001b[0m\n\u001b[1;32m    410\u001b[0m                 \u001b[0mpreload_content\u001b[0m\u001b[0;34m=\u001b[0m\u001b[0;32mFalse\u001b[0m\u001b[0;34m,\u001b[0m\u001b[0;34m\u001b[0m\u001b[0;34m\u001b[0m\u001b[0m\n\u001b[1;32m    411\u001b[0m                 \u001b[0mdecode_content\u001b[0m\u001b[0;34m=\u001b[0m\u001b[0;32mFalse\u001b[0m\u001b[0;34m,\u001b[0m\u001b[0;34m\u001b[0m\u001b[0;34m\u001b[0m\u001b[0m\n\u001b[0;32m--> 412\u001b[0;31m                 \u001b[0mchunked\u001b[0m\u001b[0;34m=\u001b[0m\u001b[0mself\u001b[0m\u001b[0;34m.\u001b[0m\u001b[0m_chunked\u001b[0m\u001b[0;34m(\u001b[0m\u001b[0mrequest\u001b[0m\u001b[0;34m.\u001b[0m\u001b[0mheaders\u001b[0m\u001b[0;34m)\u001b[0m\u001b[0;34m,\u001b[0m\u001b[0;34m\u001b[0m\u001b[0;34m\u001b[0m\u001b[0m\n\u001b[0m\u001b[1;32m    413\u001b[0m             )\n\u001b[1;32m    414\u001b[0m \u001b[0;34m\u001b[0m\u001b[0m\n",
            "\u001b[0;32m/usr/local/lib/python3.7/dist-packages/urllib3/connectionpool.py\u001b[0m in \u001b[0;36murlopen\u001b[0;34m(self, method, url, body, headers, retries, redirect, assert_same_host, timeout, pool_timeout, release_conn, chunked, body_pos, **response_kw)\u001b[0m\n\u001b[1;32m    675\u001b[0m                 \u001b[0mbody\u001b[0m\u001b[0;34m=\u001b[0m\u001b[0mbody\u001b[0m\u001b[0;34m,\u001b[0m\u001b[0;34m\u001b[0m\u001b[0;34m\u001b[0m\u001b[0m\n\u001b[1;32m    676\u001b[0m                 \u001b[0mheaders\u001b[0m\u001b[0;34m=\u001b[0m\u001b[0mheaders\u001b[0m\u001b[0;34m,\u001b[0m\u001b[0;34m\u001b[0m\u001b[0;34m\u001b[0m\u001b[0m\n\u001b[0;32m--> 677\u001b[0;31m                 \u001b[0mchunked\u001b[0m\u001b[0;34m=\u001b[0m\u001b[0mchunked\u001b[0m\u001b[0;34m,\u001b[0m\u001b[0;34m\u001b[0m\u001b[0;34m\u001b[0m\u001b[0m\n\u001b[0m\u001b[1;32m    678\u001b[0m             )\n\u001b[1;32m    679\u001b[0m \u001b[0;34m\u001b[0m\u001b[0m\n",
            "\u001b[0;32m/usr/local/lib/python3.7/dist-packages/urllib3/connectionpool.py\u001b[0m in \u001b[0;36m_make_request\u001b[0;34m(self, conn, method, url, timeout, chunked, **httplib_request_kw)\u001b[0m\n\u001b[1;32m    424\u001b[0m                     \u001b[0;31m# Python 3 (including for exceptions like SystemExit).\u001b[0m\u001b[0;34m\u001b[0m\u001b[0;34m\u001b[0m\u001b[0;34m\u001b[0m\u001b[0m\n\u001b[1;32m    425\u001b[0m                     \u001b[0;31m# Otherwise it looks like a bug in the code.\u001b[0m\u001b[0;34m\u001b[0m\u001b[0;34m\u001b[0m\u001b[0;34m\u001b[0m\u001b[0m\n\u001b[0;32m--> 426\u001b[0;31m                     \u001b[0msix\u001b[0m\u001b[0;34m.\u001b[0m\u001b[0mraise_from\u001b[0m\u001b[0;34m(\u001b[0m\u001b[0me\u001b[0m\u001b[0;34m,\u001b[0m \u001b[0;32mNone\u001b[0m\u001b[0;34m)\u001b[0m\u001b[0;34m\u001b[0m\u001b[0;34m\u001b[0m\u001b[0m\n\u001b[0m\u001b[1;32m    427\u001b[0m         \u001b[0;32mexcept\u001b[0m \u001b[0;34m(\u001b[0m\u001b[0mSocketTimeout\u001b[0m\u001b[0;34m,\u001b[0m \u001b[0mBaseSSLError\u001b[0m\u001b[0;34m,\u001b[0m \u001b[0mSocketError\u001b[0m\u001b[0;34m)\u001b[0m \u001b[0;32mas\u001b[0m \u001b[0me\u001b[0m\u001b[0;34m:\u001b[0m\u001b[0;34m\u001b[0m\u001b[0;34m\u001b[0m\u001b[0m\n\u001b[1;32m    428\u001b[0m             \u001b[0mself\u001b[0m\u001b[0;34m.\u001b[0m\u001b[0m_raise_timeout\u001b[0m\u001b[0;34m(\u001b[0m\u001b[0merr\u001b[0m\u001b[0;34m=\u001b[0m\u001b[0me\u001b[0m\u001b[0;34m,\u001b[0m \u001b[0murl\u001b[0m\u001b[0;34m=\u001b[0m\u001b[0murl\u001b[0m\u001b[0;34m,\u001b[0m \u001b[0mtimeout_value\u001b[0m\u001b[0;34m=\u001b[0m\u001b[0mread_timeout\u001b[0m\u001b[0;34m)\u001b[0m\u001b[0;34m\u001b[0m\u001b[0;34m\u001b[0m\u001b[0m\n",
            "\u001b[0;32m/usr/local/lib/python3.7/dist-packages/urllib3/packages/six.py\u001b[0m in \u001b[0;36mraise_from\u001b[0;34m(value, from_value)\u001b[0m\n",
            "\u001b[0;32m/usr/local/lib/python3.7/dist-packages/urllib3/connectionpool.py\u001b[0m in \u001b[0;36m_make_request\u001b[0;34m(self, conn, method, url, timeout, chunked, **httplib_request_kw)\u001b[0m\n\u001b[1;32m    419\u001b[0m                 \u001b[0;31m# Python 3\u001b[0m\u001b[0;34m\u001b[0m\u001b[0;34m\u001b[0m\u001b[0;34m\u001b[0m\u001b[0m\n\u001b[1;32m    420\u001b[0m                 \u001b[0;32mtry\u001b[0m\u001b[0;34m:\u001b[0m\u001b[0;34m\u001b[0m\u001b[0;34m\u001b[0m\u001b[0m\n\u001b[0;32m--> 421\u001b[0;31m                     \u001b[0mhttplib_response\u001b[0m \u001b[0;34m=\u001b[0m \u001b[0mconn\u001b[0m\u001b[0;34m.\u001b[0m\u001b[0mgetresponse\u001b[0m\u001b[0;34m(\u001b[0m\u001b[0;34m)\u001b[0m\u001b[0;34m\u001b[0m\u001b[0;34m\u001b[0m\u001b[0m\n\u001b[0m\u001b[1;32m    422\u001b[0m                 \u001b[0;32mexcept\u001b[0m \u001b[0mBaseException\u001b[0m \u001b[0;32mas\u001b[0m \u001b[0me\u001b[0m\u001b[0;34m:\u001b[0m\u001b[0;34m\u001b[0m\u001b[0;34m\u001b[0m\u001b[0m\n\u001b[1;32m    423\u001b[0m                     \u001b[0;31m# Remove the TypeError from the exception chain in\u001b[0m\u001b[0;34m\u001b[0m\u001b[0;34m\u001b[0m\u001b[0;34m\u001b[0m\u001b[0m\n",
            "\u001b[0;32m/usr/lib/python3.7/http/client.py\u001b[0m in \u001b[0;36mgetresponse\u001b[0;34m(self)\u001b[0m\n\u001b[1;32m   1371\u001b[0m         \u001b[0;32mtry\u001b[0m\u001b[0;34m:\u001b[0m\u001b[0;34m\u001b[0m\u001b[0;34m\u001b[0m\u001b[0m\n\u001b[1;32m   1372\u001b[0m             \u001b[0;32mtry\u001b[0m\u001b[0;34m:\u001b[0m\u001b[0;34m\u001b[0m\u001b[0;34m\u001b[0m\u001b[0m\n\u001b[0;32m-> 1373\u001b[0;31m                 \u001b[0mresponse\u001b[0m\u001b[0;34m.\u001b[0m\u001b[0mbegin\u001b[0m\u001b[0;34m(\u001b[0m\u001b[0;34m)\u001b[0m\u001b[0;34m\u001b[0m\u001b[0;34m\u001b[0m\u001b[0m\n\u001b[0m\u001b[1;32m   1374\u001b[0m             \u001b[0;32mexcept\u001b[0m \u001b[0mConnectionError\u001b[0m\u001b[0;34m:\u001b[0m\u001b[0;34m\u001b[0m\u001b[0;34m\u001b[0m\u001b[0m\n\u001b[1;32m   1375\u001b[0m                 \u001b[0mself\u001b[0m\u001b[0;34m.\u001b[0m\u001b[0mclose\u001b[0m\u001b[0;34m(\u001b[0m\u001b[0;34m)\u001b[0m\u001b[0;34m\u001b[0m\u001b[0;34m\u001b[0m\u001b[0m\n",
            "\u001b[0;32m/usr/lib/python3.7/http/client.py\u001b[0m in \u001b[0;36mbegin\u001b[0;34m(self)\u001b[0m\n\u001b[1;32m    317\u001b[0m         \u001b[0;31m# read until we get a non-100 response\u001b[0m\u001b[0;34m\u001b[0m\u001b[0;34m\u001b[0m\u001b[0;34m\u001b[0m\u001b[0m\n\u001b[1;32m    318\u001b[0m         \u001b[0;32mwhile\u001b[0m \u001b[0;32mTrue\u001b[0m\u001b[0;34m:\u001b[0m\u001b[0;34m\u001b[0m\u001b[0;34m\u001b[0m\u001b[0m\n\u001b[0;32m--> 319\u001b[0;31m             \u001b[0mversion\u001b[0m\u001b[0;34m,\u001b[0m \u001b[0mstatus\u001b[0m\u001b[0;34m,\u001b[0m \u001b[0mreason\u001b[0m \u001b[0;34m=\u001b[0m \u001b[0mself\u001b[0m\u001b[0;34m.\u001b[0m\u001b[0m_read_status\u001b[0m\u001b[0;34m(\u001b[0m\u001b[0;34m)\u001b[0m\u001b[0;34m\u001b[0m\u001b[0;34m\u001b[0m\u001b[0m\n\u001b[0m\u001b[1;32m    320\u001b[0m             \u001b[0;32mif\u001b[0m \u001b[0mstatus\u001b[0m \u001b[0;34m!=\u001b[0m \u001b[0mCONTINUE\u001b[0m\u001b[0;34m:\u001b[0m\u001b[0;34m\u001b[0m\u001b[0;34m\u001b[0m\u001b[0m\n\u001b[1;32m    321\u001b[0m                 \u001b[0;32mbreak\u001b[0m\u001b[0;34m\u001b[0m\u001b[0;34m\u001b[0m\u001b[0m\n",
            "\u001b[0;32m/usr/lib/python3.7/http/client.py\u001b[0m in \u001b[0;36m_read_status\u001b[0;34m(self)\u001b[0m\n\u001b[1;32m    278\u001b[0m \u001b[0;34m\u001b[0m\u001b[0m\n\u001b[1;32m    279\u001b[0m     \u001b[0;32mdef\u001b[0m \u001b[0m_read_status\u001b[0m\u001b[0;34m(\u001b[0m\u001b[0mself\u001b[0m\u001b[0;34m)\u001b[0m\u001b[0;34m:\u001b[0m\u001b[0;34m\u001b[0m\u001b[0;34m\u001b[0m\u001b[0m\n\u001b[0;32m--> 280\u001b[0;31m         \u001b[0mline\u001b[0m \u001b[0;34m=\u001b[0m \u001b[0mstr\u001b[0m\u001b[0;34m(\u001b[0m\u001b[0mself\u001b[0m\u001b[0;34m.\u001b[0m\u001b[0mfp\u001b[0m\u001b[0;34m.\u001b[0m\u001b[0mreadline\u001b[0m\u001b[0;34m(\u001b[0m\u001b[0m_MAXLINE\u001b[0m \u001b[0;34m+\u001b[0m \u001b[0;36m1\u001b[0m\u001b[0;34m)\u001b[0m\u001b[0;34m,\u001b[0m \u001b[0;34m\"iso-8859-1\"\u001b[0m\u001b[0;34m)\u001b[0m\u001b[0;34m\u001b[0m\u001b[0;34m\u001b[0m\u001b[0m\n\u001b[0m\u001b[1;32m    281\u001b[0m         \u001b[0;32mif\u001b[0m \u001b[0mlen\u001b[0m\u001b[0;34m(\u001b[0m\u001b[0mline\u001b[0m\u001b[0;34m)\u001b[0m \u001b[0;34m>\u001b[0m \u001b[0m_MAXLINE\u001b[0m\u001b[0;34m:\u001b[0m\u001b[0;34m\u001b[0m\u001b[0;34m\u001b[0m\u001b[0m\n\u001b[1;32m    282\u001b[0m             \u001b[0;32mraise\u001b[0m \u001b[0mLineTooLong\u001b[0m\u001b[0;34m(\u001b[0m\u001b[0;34m\"status line\"\u001b[0m\u001b[0;34m)\u001b[0m\u001b[0;34m\u001b[0m\u001b[0;34m\u001b[0m\u001b[0m\n",
            "\u001b[0;32m/usr/lib/python3.7/socket.py\u001b[0m in \u001b[0;36mreadinto\u001b[0;34m(self, b)\u001b[0m\n\u001b[1;32m    587\u001b[0m         \u001b[0;32mwhile\u001b[0m \u001b[0;32mTrue\u001b[0m\u001b[0;34m:\u001b[0m\u001b[0;34m\u001b[0m\u001b[0;34m\u001b[0m\u001b[0m\n\u001b[1;32m    588\u001b[0m             \u001b[0;32mtry\u001b[0m\u001b[0;34m:\u001b[0m\u001b[0;34m\u001b[0m\u001b[0;34m\u001b[0m\u001b[0m\n\u001b[0;32m--> 589\u001b[0;31m                 \u001b[0;32mreturn\u001b[0m \u001b[0mself\u001b[0m\u001b[0;34m.\u001b[0m\u001b[0m_sock\u001b[0m\u001b[0;34m.\u001b[0m\u001b[0mrecv_into\u001b[0m\u001b[0;34m(\u001b[0m\u001b[0mb\u001b[0m\u001b[0;34m)\u001b[0m\u001b[0;34m\u001b[0m\u001b[0;34m\u001b[0m\u001b[0m\n\u001b[0m\u001b[1;32m    590\u001b[0m             \u001b[0;32mexcept\u001b[0m \u001b[0mtimeout\u001b[0m\u001b[0;34m:\u001b[0m\u001b[0;34m\u001b[0m\u001b[0;34m\u001b[0m\u001b[0m\n\u001b[1;32m    591\u001b[0m                 \u001b[0mself\u001b[0m\u001b[0;34m.\u001b[0m\u001b[0m_timeout_occurred\u001b[0m \u001b[0;34m=\u001b[0m \u001b[0;32mTrue\u001b[0m\u001b[0;34m\u001b[0m\u001b[0;34m\u001b[0m\u001b[0m\n",
            "\u001b[0;32m/usr/lib/python3.7/ssl.py\u001b[0m in \u001b[0;36mrecv_into\u001b[0;34m(self, buffer, nbytes, flags)\u001b[0m\n\u001b[1;32m   1069\u001b[0m                   \u001b[0;34m\"non-zero flags not allowed in calls to recv_into() on %s\"\u001b[0m \u001b[0;34m%\u001b[0m\u001b[0;34m\u001b[0m\u001b[0;34m\u001b[0m\u001b[0m\n\u001b[1;32m   1070\u001b[0m                   self.__class__)\n\u001b[0;32m-> 1071\u001b[0;31m             \u001b[0;32mreturn\u001b[0m \u001b[0mself\u001b[0m\u001b[0;34m.\u001b[0m\u001b[0mread\u001b[0m\u001b[0;34m(\u001b[0m\u001b[0mnbytes\u001b[0m\u001b[0;34m,\u001b[0m \u001b[0mbuffer\u001b[0m\u001b[0;34m)\u001b[0m\u001b[0;34m\u001b[0m\u001b[0;34m\u001b[0m\u001b[0m\n\u001b[0m\u001b[1;32m   1072\u001b[0m         \u001b[0;32melse\u001b[0m\u001b[0;34m:\u001b[0m\u001b[0;34m\u001b[0m\u001b[0;34m\u001b[0m\u001b[0m\n\u001b[1;32m   1073\u001b[0m             \u001b[0;32mreturn\u001b[0m \u001b[0msuper\u001b[0m\u001b[0;34m(\u001b[0m\u001b[0;34m)\u001b[0m\u001b[0;34m.\u001b[0m\u001b[0mrecv_into\u001b[0m\u001b[0;34m(\u001b[0m\u001b[0mbuffer\u001b[0m\u001b[0;34m,\u001b[0m \u001b[0mnbytes\u001b[0m\u001b[0;34m,\u001b[0m \u001b[0mflags\u001b[0m\u001b[0;34m)\u001b[0m\u001b[0;34m\u001b[0m\u001b[0;34m\u001b[0m\u001b[0m\n",
            "\u001b[0;32m/usr/lib/python3.7/ssl.py\u001b[0m in \u001b[0;36mread\u001b[0;34m(self, len, buffer)\u001b[0m\n\u001b[1;32m    927\u001b[0m         \u001b[0;32mtry\u001b[0m\u001b[0;34m:\u001b[0m\u001b[0;34m\u001b[0m\u001b[0;34m\u001b[0m\u001b[0m\n\u001b[1;32m    928\u001b[0m             \u001b[0;32mif\u001b[0m \u001b[0mbuffer\u001b[0m \u001b[0;32mis\u001b[0m \u001b[0;32mnot\u001b[0m \u001b[0;32mNone\u001b[0m\u001b[0;34m:\u001b[0m\u001b[0;34m\u001b[0m\u001b[0;34m\u001b[0m\u001b[0m\n\u001b[0;32m--> 929\u001b[0;31m                 \u001b[0;32mreturn\u001b[0m \u001b[0mself\u001b[0m\u001b[0;34m.\u001b[0m\u001b[0m_sslobj\u001b[0m\u001b[0;34m.\u001b[0m\u001b[0mread\u001b[0m\u001b[0;34m(\u001b[0m\u001b[0mlen\u001b[0m\u001b[0;34m,\u001b[0m \u001b[0mbuffer\u001b[0m\u001b[0;34m)\u001b[0m\u001b[0;34m\u001b[0m\u001b[0;34m\u001b[0m\u001b[0m\n\u001b[0m\u001b[1;32m    930\u001b[0m             \u001b[0;32melse\u001b[0m\u001b[0;34m:\u001b[0m\u001b[0;34m\u001b[0m\u001b[0;34m\u001b[0m\u001b[0m\n\u001b[1;32m    931\u001b[0m                 \u001b[0;32mreturn\u001b[0m \u001b[0mself\u001b[0m\u001b[0;34m.\u001b[0m\u001b[0m_sslobj\u001b[0m\u001b[0;34m.\u001b[0m\u001b[0mread\u001b[0m\u001b[0;34m(\u001b[0m\u001b[0mlen\u001b[0m\u001b[0;34m)\u001b[0m\u001b[0;34m\u001b[0m\u001b[0;34m\u001b[0m\u001b[0m\n",
            "\u001b[0;31mKeyboardInterrupt\u001b[0m: "
          ]
        }
      ],
      "source": [
        "# downloading all segments: this will take a while\n",
        "download_segments(df_key)"
      ]
    },
    {
      "cell_type": "markdown",
      "source": [
        "Preparing `.wav`'s for export."
      ],
      "metadata": {
        "id": "EN9BX31VH4Bc"
      }
    },
    {
      "cell_type": "code",
      "execution_count": null,
      "metadata": {
        "id": "N9Gpdul_aOaQ"
      },
      "outputs": [],
      "source": [
        "mkdir wavs"
      ]
    },
    {
      "cell_type": "code",
      "execution_count": null,
      "metadata": {
        "id": "l4IxzJ802Wzn"
      },
      "outputs": [],
      "source": [
        "mv *.wav wavs/"
      ]
    },
    {
      "cell_type": "code",
      "execution_count": null,
      "metadata": {
        "colab": {
          "base_uri": "https://localhost:8080/"
        },
        "id": "1Tws6LKH2gTh",
        "outputId": "3201d410-a574-4979-e0bd-10ab73b37301"
      },
      "outputs": [
        {
          "name": "stdout",
          "output_type": "stream",
          "text": [
            "human-detections.csv  rpi-port-townsend_2020_07_03_17_35_18.wav  \u001b[0m\u001b[01;34msample_data\u001b[0m/\n"
          ]
        }
      ],
      "source": [
        "ls"
      ]
    },
    {
      "cell_type": "code",
      "execution_count": null,
      "metadata": {
        "colab": {
          "base_uri": "https://localhost:8080/"
        },
        "id": "gA3ZbHm03ERc",
        "outputId": "9af81b35-4ee9-4013-da2c-fc814787bb3f"
      },
      "outputs": [
        {
          "name": "stdout",
          "output_type": "stream",
          "text": [
            "  adding: wavs/ (stored 0%)\n",
            "  adding: wavs/rpi-port-townsend_2020_07_04_15_56_55.wav (deflated 12%)\n",
            "  adding: wavs/rpi-orcasound-lab_2020_07_05_23_02_37.wav (deflated 51%)\n",
            "  adding: wavs/rpi-bush-point_2020_06_18_15_17_41.wav (deflated 48%)\n",
            "  adding: wavs/rpi-bush-point_2020_07_11_14_35_04.wav (deflated 56%)\n",
            "  adding: wavs/rpi-bush-point_2020_09_01_17_23_25.wav (deflated 47%)\n",
            "  adding: wavs/rpi-orcasound-lab_2020_10_20_05_01_33.wav (deflated 15%)\n",
            "  adding: wavs/rpi-bush-point_2020_11_22_18_19_02.wav (deflated 18%)\n",
            "  adding: wavs/rpi-port-townsend_2020_07_07_12_30_30.wav (deflated 22%)\n",
            "  adding: wavs/rpi-bush-point_2020_07_11_17_01_13.wav (deflated 15%)\n",
            "  adding: wavs/rpi-port-townsend_2020_07_03_17_35_18.wav (deflated 15%)\n",
            "  adding: wavs/rpi-bush-point_2020_09_28_06_00_29.wav (deflated 14%)\n",
            "  adding: wavs/rpi-orcasound-lab_2020_10_20_05_10_33.wav (deflated 15%)\n",
            "  adding: wavs/rpi-orcasound-lab_2020_07_05_22_53_26.wav (deflated 45%)\n",
            "  adding: wavs/rpi-port-townsend_2020_06_02_08_34_02.wav (deflated 23%)\n",
            "  adding: wavs/rpi-orcasound-lab_2020_07_05_03_17_43.wav (deflated 55%)\n",
            "  adding: wavs/rpi-orcasound-lab_2020_11_22_19_22_41.wav (deflated 28%)\n",
            "  adding: wavs/rpi-orcasound-lab_2020_09_01_22_20_04.wav (deflated 52%)\n",
            "  adding: wavs/rpi-port-townsend_2020_05_22_14_53_43.wav (deflated 17%)\n",
            "  adding: wavs/rpi-orcasound-lab_2020_09_01_22_03_11.wav (deflated 58%)\n",
            "  adding: wavs/rpi-orcasound-lab_2020_07_05_07_16_28.wav (deflated 60%)\n",
            "  adding: wavs/rpi-bush-point_2020_03_21_21_39_42.wav (deflated 14%)\n",
            "  adding: wavs/rpi-orcasound-lab_2020_07_25_02_44_21.wav (deflated 48%)\n",
            "  adding: wavs/rpi-orcasound-lab_2020_07_08_23_27_26.wav (deflated 56%)\n",
            "  adding: wavs/rpi-orcasound-lab_2020_07_05_22_53_38.wav (deflated 45%)\n",
            "  adding: wavs/rpi-bush-point_2020_11_22_19_12_08.wav (deflated 15%)\n",
            "  adding: wavs/rpi-orcasound-lab_2020_07_05_02_15_11.wav (deflated 49%)\n",
            "  adding: wavs/rpi-orcasound-lab_2020_07_07_23_34_59.wav (deflated 53%)\n",
            "  adding: wavs/rpi-bush-point_2020_06_06_19_18_11.wav (deflated 21%)\n",
            "  adding: wavs/rpi-bush-point_2020_11_17_17_46_36.wav (deflated 11%)\n",
            "  adding: wavs/rpi-orcasound-lab_2020_11_22_18_53_34.wav (deflated 15%)\n",
            "  adding: wavs/rpi-orcasound-lab_2020_07_06_00_47_28.wav (deflated 53%)\n",
            "  adding: wavs/rpi-orcasound-lab_2020_11_11_22_28_54.wav (deflated 46%)\n",
            "  adding: wavs/rpi-orcasound-lab_2020_07_05_22_57_09.wav (deflated 44%)\n",
            "  adding: wavs/rpi-orcasound-lab_2020_07_07_22_55_42.wav (deflated 56%)\n",
            "  adding: wavs/rpi-port-townsend_2020_07_04_16_21_04.wav (deflated 14%)\n",
            "  adding: wavs/rpi-bush-point_2020_11_22_18_44_19.wav (deflated 23%)\n",
            "  adding: wavs/rpi-bush-point_2020_05_17_00_09_45.wav (deflated 27%)\n",
            "  adding: wavs/rpi-orcasound-lab_2020_07_07_23_35_30.wav (deflated 52%)\n",
            "  adding: wavs/rpi-orcasound-lab_2020_07_05_22_54_09.wav (deflated 46%)\n",
            "  adding: wavs/rpi-orcasound-lab_2020_06_29_14_12_47.wav (deflated 59%)\n",
            "  adding: wavs/rpi-port-townsend_2020_09_14_21_55_00.wav (deflated 22%)\n",
            "  adding: wavs/rpi-orcasound-lab_2020_07_05_03_29_02.wav (deflated 54%)\n",
            "  adding: wavs/rpi-orcasound-lab_2020_09_01_22_23_05.wav (deflated 48%)\n",
            "  adding: wavs/rpi-orcasound-lab_2020_09_29_02_06_10.wav (deflated 45%)\n",
            "  adding: wavs/rpi-orcasound-lab_2020_07_05_07_19_15.wav (deflated 59%)\n",
            "  adding: wavs/rpi-orcasound-lab_2020_11_23_20_29_38.wav (deflated 55%)\n",
            "  adding: wavs/rpi-port-townsend_2020_05_26_06_24_56.wav (deflated 21%)\n",
            "  adding: wavs/rpi-bush-point_2020_11_22_18_44_39.wav (deflated 22%)\n",
            "  adding: wavs/rpi-bush-point_2020_09_01_17_20_47.wav (deflated 47%)\n",
            "  adding: wavs/rpi-port-townsend_2020_11_22_20_13_26.wav (deflated 23%)\n",
            "  adding: wavs/rpi-bush-point_2020_08_02_01_18_05.wav (deflated 8%)\n",
            "  adding: wavs/rpi-orcasound-lab_2020_09_15_17_06_05.wav (deflated 50%)\n",
            "  adding: wavs/rpi-orcasound-lab_2020_07_05_03_14_10.wav (deflated 54%)\n",
            "  adding: wavs/rpi-orcasound-lab_2020_07_05_02_50_10.wav (deflated 53%)\n",
            "  adding: wavs/rpi-orcasound-lab_2020_07_05_03_01_37.wav (deflated 51%)\n",
            "  adding: wavs/rpi-orcasound-lab_2020_07_06_01_24_15.wav (deflated 57%)\n",
            "  adding: wavs/rpi-port-townsend_2020_07_16_21_20_27.wav (deflated 15%)\n",
            "  adding: wavs/rpi-port-townsend_2020_06_02_07_30_56.wav (deflated 22%)\n",
            "  adding: wavs/rpi-bush-point_2020_07_07_02_16_29.wav (deflated 45%)\n",
            "  adding: wavs/rpi-orcasound-lab_2020_07_05_22_59_32.wav (deflated 46%)\n",
            "  adding: wavs/rpi-orcasound-lab_2020_07_07_23_32_47.wav (deflated 52%)\n",
            "  adding: wavs/rpi-port-townsend_2020_10_16_01_00_43.wav (deflated 22%)\n",
            "  adding: wavs/rpi-orcasound-lab_2020_09_10_00_18_23.wav (deflated 60%)\n",
            "  adding: wavs/rpi-orcasound-lab_2020_07_05_02_50_00.wav (deflated 53%)\n",
            "  adding: wavs/rpi-orcasound-lab_2020_07_08_23_24_57.wav (deflated 56%)\n",
            "  adding: wavs/rpi-bush-point_2020_08_05_17_08_12.wav (deflated 25%)\n",
            "  adding: wavs/rpi-orcasound-lab_2020_07_07_23_35_27.wav (deflated 52%)\n",
            "  adding: wavs/rpi-orcasound-lab_2020_07_07_23_35_34.wav (deflated 52%)\n",
            "  adding: wavs/rpi-orcasound-lab_2020_07_05_22_57_31.wav (deflated 45%)\n",
            "  adding: wavs/rpi-orcasound-lab_2020_07_05_02_48_58.wav (deflated 54%)\n",
            "  adding: wavs/rpi-orcasound-lab_2020_10_20_05_05_01.wav (deflated 12%)\n",
            "  adding: wavs/rpi-port-townsend_2020_07_02_03_32_11.wav (deflated 21%)\n",
            "  adding: wavs/rpi-orcasound-lab_2020_09_01_21_56_16.wav (deflated 58%)\n",
            "  adding: wavs/rpi-bush-point_2020_11_17_17_46_07.wav (deflated 11%)\n",
            "  adding: wavs/rpi-orcasound-lab_2020_07_05_22_59_52.wav (deflated 46%)\n",
            "  adding: wavs/rpi-orcasound-lab_2020_09_13_18_39_56.wav (deflated 17%)\n",
            "  adding: wavs/rpi-orcasound-lab_2020_10_25_22_29_57.wav (deflated 35%)\n",
            "  adding: wavs/rpi-orcasound-lab_2020_07_05_03_51_49.wav (deflated 53%)\n",
            "  adding: wavs/rpi-orcasound-lab_2020_02_25_21_31_48.wav (deflated 23%)\n",
            "  adding: wavs/rpi-bush-point_2020_09_26_12_35_21.wav (deflated 18%)\n",
            "  adding: wavs/rpi-orcasound-lab_2020_07_17_20_10_45.wav (deflated 57%)\n",
            "  adding: wavs/rpi-bush-point_2020_07_01_02_56_39.wav (deflated 14%)\n",
            "  adding: wavs/rpi-orcasound-lab_2020_07_05_02_58_54.wav (deflated 51%)\n",
            "  adding: wavs/rpi-bush-point_2020_05_20_11_49_03.wav (deflated 28%)\n",
            "  adding: wavs/rpi-orcasound-lab_2020_07_05_01_55_11.wav (deflated 48%)\n",
            "  adding: wavs/rpi-orcasound-lab_2020_07_05_02_35_48.wav (deflated 54%)\n",
            "  adding: wavs/rpi-port-townsend_2020_10_19_19_14_58.wav (deflated 19%)\n",
            "  adding: wavs/rpi-orcasound-lab_2020_07_05_02_19_26.wav (deflated 52%)\n",
            "  adding: wavs/rpi-port-townsend_2020_08_26_20_47_16.wav (deflated 19%)\n",
            "  adding: wavs/rpi-orcasound-lab_2020_07_08_00_04_00.wav (deflated 43%)\n",
            "  adding: wavs/rpi-bush-point_2020_10_14_02_02_20.wav (deflated 4%)\n",
            "  adding: wavs/rpi-orcasound-lab_2020_09_28_14_11_10.wav (deflated 55%)\n",
            "  adding: wavs/rpi-port-townsend_2020_09_07_00_29_28.wav (deflated 17%)\n",
            "  adding: wavs/rpi-orcasound-lab_2020_08_18_04_52_19.wav (deflated 28%)\n",
            "  adding: wavs/rpi-orcasound-lab_2020_07_12_20_22_45.wav (deflated 56%)\n",
            "  adding: wavs/rpi-orcasound-lab_2020_09_01_22_08_12.wav (deflated 57%)\n",
            "  adding: wavs/rpi-port-townsend_2020_07_06_03_24_23.wav (deflated 13%)\n",
            "  adding: wavs/rpi-orcasound-lab_2020_07_25_02_43_13.wav (deflated 47%)\n",
            "  adding: wavs/rpi-orcasound-lab_2020_06_29_14_57_47.wav (deflated 60%)\n",
            "  adding: wavs/rpi-orcasound-lab_2020_07_05_02_36_02.wav (deflated 54%)\n",
            "  adding: wavs/rpi-orcasound-lab_2020_09_01_22_13_24.wav (deflated 54%)\n",
            "  adding: wavs/rpi-bush-point_2020_07_04_16_09_21.wav (deflated 20%)\n",
            "  adding: wavs/rpi-bush-point_2019_12_19_21_25_08.wav (deflated 11%)\n",
            "  adding: wavs/rpi-orcasound-lab_2020_07_05_03_05_59.wav (deflated 54%)\n",
            "  adding: wavs/rpi-bush-point_2020_09_25_17_56_33.wav (deflated 6%)\n",
            "  adding: wavs/rpi-orcasound-lab_2020_09_02_01_14_36.wav (deflated 35%)\n",
            "  adding: wavs/rpi-orcasound-lab_2020_07_05_01_54_36.wav (deflated 48%)\n",
            "  adding: wavs/rpi-orcasound-lab_2020_05_29_01_33_39.wav (deflated 54%)\n",
            "  adding: wavs/rpi-orcasound-lab_2020_07_21_01_29_05.wav (deflated 56%)\n",
            "  adding: wavs/rpi-port-townsend_2020_07_06_03_28_48.wav (deflated 14%)\n",
            "  adding: wavs/rpi-orcasound-lab_2020_10_16_00_56_09.wav (deflated 52%)\n",
            "  adding: wavs/rpi-bush-point_2020_08_02_01_35_15.wav (deflated 20%)\n",
            "  adding: wavs/rpi-orcasound-lab_2020_07_25_15_19_05.wav (deflated 59%)\n",
            "  adding: wavs/rpi-orcasound-lab_2020_07_05_22_23_57.wav (deflated 51%)\n",
            "  adding: wavs/rpi-bush-point_2020_07_04_15_45_08.wav (deflated 21%)\n",
            "  adding: wavs/rpi-bush-point_2020_06_16_18_52_14.wav (deflated 18%)\n",
            "  adding: wavs/rpi-port-townsend_2020_10_16_01_02_23.wav (deflated 22%)\n",
            "  adding: wavs/rpi-bush-point_2020_11_17_17_48_53.wav (deflated 12%)\n",
            "  adding: wavs/rpi-port-townsend_2020_07_01_17_03_35.wav (deflated 11%)\n",
            "  adding: wavs/rpi-bush-point_2020_09_25_17_42_07.wav (deflated 7%)\n",
            "  adding: wavs/rpi-bush-point_2020_08_02_01_18_07.wav (deflated 8%)\n",
            "  adding: wavs/rpi-orcasound-lab_2020_07_05_02_21_02.wav (deflated 52%)\n",
            "  adding: wavs/rpi-orcasound-lab_2019_10_06_07_13_04.wav (deflated 49%)\n",
            "  adding: wavs/rpi-orcasound-lab_2020_07_25_01_29_51.wav (deflated 56%)\n",
            "  adding: wavs/rpi-orcasound-lab_2020_05_17_14_18_28.wav (deflated 60%)\n",
            "  adding: wavs/rpi-orcasound-lab_2020_07_05_02_38_39.wav (deflated 53%)\n",
            "  adding: wavs/rpi-bush-point_2020_11_02_23_54_20.wav (deflated 9%)\n",
            "  adding: wavs/rpi-orcasound-lab_2020_07_05_01_58_22.wav (deflated 51%)\n",
            "  adding: wavs/rpi-orcasound-lab_2020_09_01_22_02_59.wav (deflated 58%)\n",
            "  adding: wavs/rpi-orcasound-lab_2020_07_05_23_13_57.wav (deflated 54%)\n",
            "  adding: wavs/rpi-bush-point_2020_05_17_00_09_26.wav (deflated 27%)\n",
            "  adding: wavs/rpi-bush-point_2020_07_04_16_15_10.wav (deflated 20%)\n",
            "  adding: wavs/rpi-orcasound-lab_2020_06_27_18_14_35.wav (deflated 60%)\n",
            "  adding: wavs/rpi-bush-point_2020_07_04_16_28_50.wav (deflated 24%)\n",
            "  adding: wavs/rpi-orcasound-lab_2020_07_05_02_38_23.wav (deflated 53%)\n",
            "  adding: wavs/rpi-orcasound-lab_2020_07_05_23_02_10.wav (deflated 51%)\n",
            "  adding: wavs/rpi-orcasound-lab_2020_07_05_23_06_53.wav (deflated 55%)\n",
            "  adding: wavs/rpi-port-townsend_2020_09_14_21_55_02.wav (deflated 22%)\n",
            "  adding: wavs/rpi-orcasound-lab_2020_05_17_13_53_03.wav (deflated 57%)\n",
            "  adding: wavs/rpi-bush-point_2020_06_06_19_18_10.wav (deflated 21%)\n",
            "  adding: wavs/rpi-orcasound-lab_2020_09_13_18_18_06.wav (deflated 51%)\n",
            "  adding: wavs/rpi-bush-point_2020_05_17_00_10_55.wav (deflated 27%)\n",
            "  adding: wavs/rpi-orcasound-lab_2020_07_05_22_48_27.wav (deflated 50%)\n",
            "  adding: wavs/rpi-orcasound-lab_2020_07_25_03_01_16.wav (deflated 55%)\n",
            "  adding: wavs/rpi-orcasound-lab_2020_02_25_21_32_30.wav (deflated 23%)\n",
            "  adding: wavs/rpi-orcasound-lab_2020_07_05_03_25_02.wav (deflated 54%)\n",
            "  adding: wavs/rpi-orcasound-lab_2020_07_08_23_37_02.wav (deflated 52%)\n",
            "  adding: wavs/rpi-port-townsend_2020_05_23_15_49_03.wav (deflated 19%)\n",
            "  adding: wavs/rpi-bush-point_2020_07_04_15_58_22.wav (deflated 23%)\n",
            "  adding: wavs/rpi-bush-point_2020_11_11_22_00_19.wav (deflated 17%)\n",
            "  adding: wavs/rpi-port-townsend_2020_07_09_18_48_59.wav (deflated 16%)\n",
            "  adding: wavs/rpi-bush-point_2020_11_11_19_51_55.wav (deflated 6%)\n"
          ]
        }
      ],
      "source": [
        "!zip -r wavs.zip wavs"
      ]
    },
    {
      "cell_type": "code",
      "execution_count": null,
      "metadata": {
        "id": "XKl_VgsL4CJE"
      },
      "outputs": [],
      "source": []
    }
  ],
  "metadata": {
    "colab": {
      "provenance": []
    },
    "kernelspec": {
      "display_name": "Python 3",
      "name": "python3"
    },
    "language_info": {
      "name": "python"
    }
  },
  "nbformat": 4,
  "nbformat_minor": 0
}
